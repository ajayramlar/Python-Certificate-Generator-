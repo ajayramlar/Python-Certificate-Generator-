{
 "cells": [
  {
   "cell_type": "markdown",
   "id": "027c1ba8",
   "metadata": {},
   "source": [
    "# Certificate Generator using python \n"
   ]
  },
  {
   "cell_type": "markdown",
   "id": "5a827b61",
   "metadata": {},
   "source": [
    "# Getting data from the excel file"
   ]
  },
  {
   "cell_type": "code",
   "execution_count": 3,
   "id": "5da7371c",
   "metadata": {},
   "outputs": [],
   "source": [
    "import pandas as pd\n",
    "from PIL import Image, ImageDraw, ImageFont\n",
    "\n",
    "data = pd.read_excel (r'excel.xlsx') \n",
    "name_list = data[\"Name\"].tolist()\n",
    "j= \"Python Internship\"\n",
    "position = (350,470)\n",
    "for i in name_list:\n",
    "    im = Image.open(r'1.jpg')\n",
    "    d = ImageDraw.Draw(im)\n",
    "    location = (450, 350)\n",
    "    font = ImageFont.truetype(\"arial.ttf\", 50)\n",
    "    d.text(location, i, fill = 'black', font = font)\n",
    "    d.text(position, j, fill = 'black', font = font)\n",
    "    im.save(\"certificate_\" + i + \".jpg\")\n",
    "    "
   ]
  },
  {
   "cell_type": "code",
   "execution_count": null,
   "id": "418b0c59",
   "metadata": {},
   "outputs": [],
   "source": []
  },
  {
   "cell_type": "markdown",
   "id": "6af269d7",
   "metadata": {},
   "source": [
    "# Certificate Generator using python \n"
   ]
  },
  {
   "cell_type": "markdown",
   "id": "93624c3e",
   "metadata": {},
   "source": [
    "# getting data from the user through input"
   ]
  },
  {
   "cell_type": "code",
   "execution_count": 5,
   "id": "fab1146d",
   "metadata": {},
   "outputs": [
    {
     "name": "stdout",
     "output_type": "stream",
     "text": [
      "Enter the name for the certificate:  Ajay ram\n",
      "Ajay Ram\n"
     ]
    }
   ],
   "source": [
    "import os\n",
    "from PIL import Image,ImageDraw,ImageFont\n",
    "\n",
    "\n",
    "def coupons(names: list, certificate: str,font_path: str):\n",
    "    for name in names:\n",
    "        text_y_position = 350\n",
    "        img = Image.open(certificate, mode ='r')\n",
    "        image_width = img.width\n",
    "        image_height = img.height\n",
    "        draw = ImageDraw.Draw(img)\n",
    "        font = ImageFont.truetype(\n",
    "            font_path,\n",
    "            50\n",
    "        )\n",
    "        \n",
    "        \n",
    "        text_width, _ = draw.textsize(name,font = font)\n",
    "\n",
    "        draw.text(\n",
    "            (\n",
    "               \n",
    "                (image_width - text_width) / 2,\n",
    "                text_y_position,\n",
    "            ),\n",
    "            name,font = font,\n",
    "            fill = \"black\"\n",
    "            )\n",
    "        \n",
    "        img.save(\"{}.jpg\".format(name)) \n",
    "        img.save(\"{}.pdf\".format(name)) \n",
    "        \n",
    "        \n",
    "if __name__ == \"__main__\":\n",
    "    \n",
    "    \n",
    "    NAMES=['ajay']\n",
    "    NAMES[0]=(input(\"Enter the name for the certificate:  \"))\n",
    "    print(NAMES[0].title())\n",
    "    \n",
    "\n",
    "    FONT =\"C://WINDOWS//FONTS//ARIAL.TTF\"\n",
    "      \n",
    "    CERTIFICATE = \"1.jpg\"\n",
    "   \n",
    "    coupons(NAMES, CERTIFICATE,FONT)"
   ]
  },
  {
   "cell_type": "code",
   "execution_count": null,
   "id": "8a427143",
   "metadata": {},
   "outputs": [],
   "source": []
  },
  {
   "cell_type": "code",
   "execution_count": null,
   "id": "0204896f",
   "metadata": {},
   "outputs": [],
   "source": []
  },
  {
   "cell_type": "code",
   "execution_count": null,
   "id": "5edd6e66",
   "metadata": {},
   "outputs": [],
   "source": [
    "\n"
   ]
  },
  {
   "cell_type": "code",
   "execution_count": null,
   "id": "b01d978e",
   "metadata": {},
   "outputs": [],
   "source": []
  },
  {
   "cell_type": "code",
   "execution_count": null,
   "id": "2b098a12",
   "metadata": {},
   "outputs": [],
   "source": []
  }
 ],
 "metadata": {
  "kernelspec": {
   "display_name": "Python 3",
   "language": "python",
   "name": "python3"
  },
  "language_info": {
   "codemirror_mode": {
    "name": "ipython",
    "version": 3
   },
   "file_extension": ".py",
   "mimetype": "text/x-python",
   "name": "python",
   "nbconvert_exporter": "python",
   "pygments_lexer": "ipython3",
   "version": "3.9.4"
  }
 },
 "nbformat": 4,
 "nbformat_minor": 5
}
